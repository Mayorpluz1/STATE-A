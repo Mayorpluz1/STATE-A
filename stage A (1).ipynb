{
  "metadata": {
    "language_info": {
      "codemirror_mode": {
        "name": "python",
        "version": 3
      },
      "file_extension": ".py",
      "mimetype": "text/x-python",
      "name": "python",
      "nbconvert_exporter": "python",
      "pygments_lexer": "ipython3",
      "version": "3.8"
    },
    "kernelspec": {
      "name": "python",
      "display_name": "Python (Pyodide)",
      "language": "python"
    }
  },
  "nbformat_minor": 4,
  "nbformat": 4,
  "cells": [
    {
      "cell_type": "code",
      "source": "import pandas as pd\nimport numpy as np",
      "metadata": {
        "trusted": true
      },
      "execution_count": 70,
      "outputs": []
    },
    {
      "cell_type": "code",
      "source": "dataset=pd.read_csv(\"data/FoodBalanceSheets_E_Africa_NOFLAG.csv\", encoding=\"latin-1\")\n\ndataset",
      "metadata": {
        "trusted": true
      },
      "execution_count": 71,
      "outputs": [
        {
          "execution_count": 71,
          "output_type": "execute_result",
          "data": {
            "text/plain": "       Area Code     Area  Item Code          Item  Element Code  \\\n0              4  Algeria       2501    Population           511   \n1              4  Algeria       2501    Population          5301   \n2              4  Algeria       2901   Grand Total           664   \n3              4  Algeria       2901   Grand Total           674   \n4              4  Algeria       2901   Grand Total           684   \n...          ...      ...        ...           ...           ...   \n12121         39     Chad       2763  Pelagic Fish          5154   \n12122         39     Chad       2763  Pelagic Fish          5142   \n12123         39     Chad       2763  Pelagic Fish           645   \n12124         39     Chad       2763  Pelagic Fish           664   \n12125         39     Chad       2763  Pelagic Fish           674   \n\n                                      Element             Unit     Y2014  \\\n0               Total Population - Both sexes     1000 persons  38924.00   \n1                    Domestic supply quantity      1000 tonnes      0.00   \n2               Food supply (kcal/capita/day)  kcal/capita/day   3377.00   \n3      Protein supply quantity (g/capita/day)     g/capita/day     94.90   \n4          Fat supply quantity (g/capita/day)     g/capita/day     80.06   \n...                                       ...              ...       ...   \n12121                   Other uses (non-food)      1000 tonnes      0.00   \n12122                                    Food      1000 tonnes      1.85   \n12123     Food supply quantity (kg/capita/yr)               kg      0.14   \n12124           Food supply (kcal/capita/day)  kcal/capita/day      0.00   \n12125  Protein supply quantity (g/capita/day)      g/capita/da       NaN   \n\n          Y2015     Y2016     Y2017     Y2018  \n0      39728.00  40551.00  41389.00  42228.00  \n1          0.00      0.00      0.00      0.00  \n2       3379.00   3372.00   3341.00   3322.00  \n3         94.35     94.72     92.82     91.83  \n4         79.36     77.40     80.19     77.28  \n...         ...       ...       ...       ...  \n12121      0.00      0.00      0.00      0.00  \n12122      0.67      0.52      0.25      0.25  \n12123      0.05      0.04      0.02      0.02  \n12124      0.00      0.00      0.00      0.00  \n12125       NaN       NaN       NaN       NaN  \n\n[12126 rows x 12 columns]",
            "text/html": "<div>\n<style scoped>\n    .dataframe tbody tr th:only-of-type {\n        vertical-align: middle;\n    }\n\n    .dataframe tbody tr th {\n        vertical-align: top;\n    }\n\n    .dataframe thead th {\n        text-align: right;\n    }\n</style>\n<table border=\"1\" class=\"dataframe\">\n  <thead>\n    <tr style=\"text-align: right;\">\n      <th></th>\n      <th>Area Code</th>\n      <th>Area</th>\n      <th>Item Code</th>\n      <th>Item</th>\n      <th>Element Code</th>\n      <th>Element</th>\n      <th>Unit</th>\n      <th>Y2014</th>\n      <th>Y2015</th>\n      <th>Y2016</th>\n      <th>Y2017</th>\n      <th>Y2018</th>\n    </tr>\n  </thead>\n  <tbody>\n    <tr>\n      <th>0</th>\n      <td>4</td>\n      <td>Algeria</td>\n      <td>2501</td>\n      <td>Population</td>\n      <td>511</td>\n      <td>Total Population - Both sexes</td>\n      <td>1000 persons</td>\n      <td>38924.00</td>\n      <td>39728.00</td>\n      <td>40551.00</td>\n      <td>41389.00</td>\n      <td>42228.00</td>\n    </tr>\n    <tr>\n      <th>1</th>\n      <td>4</td>\n      <td>Algeria</td>\n      <td>2501</td>\n      <td>Population</td>\n      <td>5301</td>\n      <td>Domestic supply quantity</td>\n      <td>1000 tonnes</td>\n      <td>0.00</td>\n      <td>0.00</td>\n      <td>0.00</td>\n      <td>0.00</td>\n      <td>0.00</td>\n    </tr>\n    <tr>\n      <th>2</th>\n      <td>4</td>\n      <td>Algeria</td>\n      <td>2901</td>\n      <td>Grand Total</td>\n      <td>664</td>\n      <td>Food supply (kcal/capita/day)</td>\n      <td>kcal/capita/day</td>\n      <td>3377.00</td>\n      <td>3379.00</td>\n      <td>3372.00</td>\n      <td>3341.00</td>\n      <td>3322.00</td>\n    </tr>\n    <tr>\n      <th>3</th>\n      <td>4</td>\n      <td>Algeria</td>\n      <td>2901</td>\n      <td>Grand Total</td>\n      <td>674</td>\n      <td>Protein supply quantity (g/capita/day)</td>\n      <td>g/capita/day</td>\n      <td>94.90</td>\n      <td>94.35</td>\n      <td>94.72</td>\n      <td>92.82</td>\n      <td>91.83</td>\n    </tr>\n    <tr>\n      <th>4</th>\n      <td>4</td>\n      <td>Algeria</td>\n      <td>2901</td>\n      <td>Grand Total</td>\n      <td>684</td>\n      <td>Fat supply quantity (g/capita/day)</td>\n      <td>g/capita/day</td>\n      <td>80.06</td>\n      <td>79.36</td>\n      <td>77.40</td>\n      <td>80.19</td>\n      <td>77.28</td>\n    </tr>\n    <tr>\n      <th>...</th>\n      <td>...</td>\n      <td>...</td>\n      <td>...</td>\n      <td>...</td>\n      <td>...</td>\n      <td>...</td>\n      <td>...</td>\n      <td>...</td>\n      <td>...</td>\n      <td>...</td>\n      <td>...</td>\n      <td>...</td>\n    </tr>\n    <tr>\n      <th>12121</th>\n      <td>39</td>\n      <td>Chad</td>\n      <td>2763</td>\n      <td>Pelagic Fish</td>\n      <td>5154</td>\n      <td>Other uses (non-food)</td>\n      <td>1000 tonnes</td>\n      <td>0.00</td>\n      <td>0.00</td>\n      <td>0.00</td>\n      <td>0.00</td>\n      <td>0.00</td>\n    </tr>\n    <tr>\n      <th>12122</th>\n      <td>39</td>\n      <td>Chad</td>\n      <td>2763</td>\n      <td>Pelagic Fish</td>\n      <td>5142</td>\n      <td>Food</td>\n      <td>1000 tonnes</td>\n      <td>1.85</td>\n      <td>0.67</td>\n      <td>0.52</td>\n      <td>0.25</td>\n      <td>0.25</td>\n    </tr>\n    <tr>\n      <th>12123</th>\n      <td>39</td>\n      <td>Chad</td>\n      <td>2763</td>\n      <td>Pelagic Fish</td>\n      <td>645</td>\n      <td>Food supply quantity (kg/capita/yr)</td>\n      <td>kg</td>\n      <td>0.14</td>\n      <td>0.05</td>\n      <td>0.04</td>\n      <td>0.02</td>\n      <td>0.02</td>\n    </tr>\n    <tr>\n      <th>12124</th>\n      <td>39</td>\n      <td>Chad</td>\n      <td>2763</td>\n      <td>Pelagic Fish</td>\n      <td>664</td>\n      <td>Food supply (kcal/capita/day)</td>\n      <td>kcal/capita/day</td>\n      <td>0.00</td>\n      <td>0.00</td>\n      <td>0.00</td>\n      <td>0.00</td>\n      <td>0.00</td>\n    </tr>\n    <tr>\n      <th>12125</th>\n      <td>39</td>\n      <td>Chad</td>\n      <td>2763</td>\n      <td>Pelagic Fish</td>\n      <td>674</td>\n      <td>Protein supply quantity (g/capita/day)</td>\n      <td>g/capita/da</td>\n      <td>NaN</td>\n      <td>NaN</td>\n      <td>NaN</td>\n      <td>NaN</td>\n      <td>NaN</td>\n    </tr>\n  </tbody>\n</table>\n<p>12126 rows × 12 columns</p>\n</div>"
          },
          "metadata": {}
        }
      ]
    },
    {
      "cell_type": "code",
      "source": "q17=dataset.iloc[:]\nq17",
      "metadata": {
        "trusted": true
      },
      "execution_count": 73,
      "outputs": [
        {
          "execution_count": 73,
          "output_type": "execute_result",
          "data": {
            "text/plain": "       Area Code     Area  Item Code          Item  Element Code  \\\n0              4  Algeria       2501    Population           511   \n1              4  Algeria       2501    Population          5301   \n2              4  Algeria       2901   Grand Total           664   \n3              4  Algeria       2901   Grand Total           674   \n4              4  Algeria       2901   Grand Total           684   \n...          ...      ...        ...           ...           ...   \n12121         39     Chad       2763  Pelagic Fish          5154   \n12122         39     Chad       2763  Pelagic Fish          5142   \n12123         39     Chad       2763  Pelagic Fish           645   \n12124         39     Chad       2763  Pelagic Fish           664   \n12125         39     Chad       2763  Pelagic Fish           674   \n\n                                      Element             Unit     Y2014  \\\n0               Total Population - Both sexes     1000 persons  38924.00   \n1                    Domestic supply quantity      1000 tonnes      0.00   \n2               Food supply (kcal/capita/day)  kcal/capita/day   3377.00   \n3      Protein supply quantity (g/capita/day)     g/capita/day     94.90   \n4          Fat supply quantity (g/capita/day)     g/capita/day     80.06   \n...                                       ...              ...       ...   \n12121                   Other uses (non-food)      1000 tonnes      0.00   \n12122                                    Food      1000 tonnes      1.85   \n12123     Food supply quantity (kg/capita/yr)               kg      0.14   \n12124           Food supply (kcal/capita/day)  kcal/capita/day      0.00   \n12125  Protein supply quantity (g/capita/day)      g/capita/da       NaN   \n\n          Y2015     Y2016     Y2017     Y2018  \n0      39728.00  40551.00  41389.00  42228.00  \n1          0.00      0.00      0.00      0.00  \n2       3379.00   3372.00   3341.00   3322.00  \n3         94.35     94.72     92.82     91.83  \n4         79.36     77.40     80.19     77.28  \n...         ...       ...       ...       ...  \n12121      0.00      0.00      0.00      0.00  \n12122      0.67      0.52      0.25      0.25  \n12123      0.05      0.04      0.02      0.02  \n12124      0.00      0.00      0.00      0.00  \n12125       NaN       NaN       NaN       NaN  \n\n[12126 rows x 12 columns]",
            "text/html": "<div>\n<style scoped>\n    .dataframe tbody tr th:only-of-type {\n        vertical-align: middle;\n    }\n\n    .dataframe tbody tr th {\n        vertical-align: top;\n    }\n\n    .dataframe thead th {\n        text-align: right;\n    }\n</style>\n<table border=\"1\" class=\"dataframe\">\n  <thead>\n    <tr style=\"text-align: right;\">\n      <th></th>\n      <th>Area Code</th>\n      <th>Area</th>\n      <th>Item Code</th>\n      <th>Item</th>\n      <th>Element Code</th>\n      <th>Element</th>\n      <th>Unit</th>\n      <th>Y2014</th>\n      <th>Y2015</th>\n      <th>Y2016</th>\n      <th>Y2017</th>\n      <th>Y2018</th>\n    </tr>\n  </thead>\n  <tbody>\n    <tr>\n      <th>0</th>\n      <td>4</td>\n      <td>Algeria</td>\n      <td>2501</td>\n      <td>Population</td>\n      <td>511</td>\n      <td>Total Population - Both sexes</td>\n      <td>1000 persons</td>\n      <td>38924.00</td>\n      <td>39728.00</td>\n      <td>40551.00</td>\n      <td>41389.00</td>\n      <td>42228.00</td>\n    </tr>\n    <tr>\n      <th>1</th>\n      <td>4</td>\n      <td>Algeria</td>\n      <td>2501</td>\n      <td>Population</td>\n      <td>5301</td>\n      <td>Domestic supply quantity</td>\n      <td>1000 tonnes</td>\n      <td>0.00</td>\n      <td>0.00</td>\n      <td>0.00</td>\n      <td>0.00</td>\n      <td>0.00</td>\n    </tr>\n    <tr>\n      <th>2</th>\n      <td>4</td>\n      <td>Algeria</td>\n      <td>2901</td>\n      <td>Grand Total</td>\n      <td>664</td>\n      <td>Food supply (kcal/capita/day)</td>\n      <td>kcal/capita/day</td>\n      <td>3377.00</td>\n      <td>3379.00</td>\n      <td>3372.00</td>\n      <td>3341.00</td>\n      <td>3322.00</td>\n    </tr>\n    <tr>\n      <th>3</th>\n      <td>4</td>\n      <td>Algeria</td>\n      <td>2901</td>\n      <td>Grand Total</td>\n      <td>674</td>\n      <td>Protein supply quantity (g/capita/day)</td>\n      <td>g/capita/day</td>\n      <td>94.90</td>\n      <td>94.35</td>\n      <td>94.72</td>\n      <td>92.82</td>\n      <td>91.83</td>\n    </tr>\n    <tr>\n      <th>4</th>\n      <td>4</td>\n      <td>Algeria</td>\n      <td>2901</td>\n      <td>Grand Total</td>\n      <td>684</td>\n      <td>Fat supply quantity (g/capita/day)</td>\n      <td>g/capita/day</td>\n      <td>80.06</td>\n      <td>79.36</td>\n      <td>77.40</td>\n      <td>80.19</td>\n      <td>77.28</td>\n    </tr>\n    <tr>\n      <th>...</th>\n      <td>...</td>\n      <td>...</td>\n      <td>...</td>\n      <td>...</td>\n      <td>...</td>\n      <td>...</td>\n      <td>...</td>\n      <td>...</td>\n      <td>...</td>\n      <td>...</td>\n      <td>...</td>\n      <td>...</td>\n    </tr>\n    <tr>\n      <th>12121</th>\n      <td>39</td>\n      <td>Chad</td>\n      <td>2763</td>\n      <td>Pelagic Fish</td>\n      <td>5154</td>\n      <td>Other uses (non-food)</td>\n      <td>1000 tonnes</td>\n      <td>0.00</td>\n      <td>0.00</td>\n      <td>0.00</td>\n      <td>0.00</td>\n      <td>0.00</td>\n    </tr>\n    <tr>\n      <th>12122</th>\n      <td>39</td>\n      <td>Chad</td>\n      <td>2763</td>\n      <td>Pelagic Fish</td>\n      <td>5142</td>\n      <td>Food</td>\n      <td>1000 tonnes</td>\n      <td>1.85</td>\n      <td>0.67</td>\n      <td>0.52</td>\n      <td>0.25</td>\n      <td>0.25</td>\n    </tr>\n    <tr>\n      <th>12123</th>\n      <td>39</td>\n      <td>Chad</td>\n      <td>2763</td>\n      <td>Pelagic Fish</td>\n      <td>645</td>\n      <td>Food supply quantity (kg/capita/yr)</td>\n      <td>kg</td>\n      <td>0.14</td>\n      <td>0.05</td>\n      <td>0.04</td>\n      <td>0.02</td>\n      <td>0.02</td>\n    </tr>\n    <tr>\n      <th>12124</th>\n      <td>39</td>\n      <td>Chad</td>\n      <td>2763</td>\n      <td>Pelagic Fish</td>\n      <td>664</td>\n      <td>Food supply (kcal/capita/day)</td>\n      <td>kcal/capita/day</td>\n      <td>0.00</td>\n      <td>0.00</td>\n      <td>0.00</td>\n      <td>0.00</td>\n      <td>0.00</td>\n    </tr>\n    <tr>\n      <th>12125</th>\n      <td>39</td>\n      <td>Chad</td>\n      <td>2763</td>\n      <td>Pelagic Fish</td>\n      <td>674</td>\n      <td>Protein supply quantity (g/capita/day)</td>\n      <td>g/capita/da</td>\n      <td>NaN</td>\n      <td>NaN</td>\n      <td>NaN</td>\n      <td>NaN</td>\n      <td>NaN</td>\n    </tr>\n  </tbody>\n</table>\n<p>12126 rows × 12 columns</p>\n</div>"
          },
          "metadata": {}
        }
      ]
    },
    {
      "cell_type": "markdown",
      "source": "\nq3=dataset.shape()\n\nq3",
      "metadata": {}
    },
    {
      "cell_type": "code",
      "source": "dataset.info()",
      "metadata": {
        "trusted": true
      },
      "execution_count": 33,
      "outputs": [
        {
          "name": "stdout",
          "text": "<class 'pandas.core.frame.DataFrame'>\nRangeIndex: 12126 entries, 0 to 12125\nData columns (total 12 columns):\n #   Column        Non-Null Count  Dtype  \n---  ------        --------------  -----  \n 0   Area Code     12126 non-null  int64  \n 1   Area          12126 non-null  object \n 2   Item Code     12126 non-null  int64  \n 3   Item          12126 non-null  object \n 4   Element Code  12126 non-null  int64  \n 5   Element       12126 non-null  object \n 6   Unit          12126 non-null  object \n 7   Y2014         11806 non-null  float64\n 8   Y2015         11827 non-null  float64\n 9   Y2016         11807 non-null  float64\n 10  Y2017         11776 non-null  float64\n 11  Y2018         11826 non-null  float64\ndtypes: float64(5), int64(3), object(4)\nmemory usage: 947.4+ KB\n",
          "output_type": "stream"
        }
      ]
    },
    {
      "cell_type": "code",
      "source": "q1=pd.dataset[\"Y2017\", \"Area\"].groupby([\"Area\"])\n\nq1",
      "metadata": {
        "trusted": true
      },
      "execution_count": 76,
      "outputs": [
        {
          "ename": "<class 'AttributeError'>",
          "evalue": "module 'pandas' has no attribute 'dataset'",
          "traceback": [
            "\u001b[0;31m---------------------------------------------------------------------------\u001b[0m",
            "\u001b[0;31mAttributeError\u001b[0m                            Traceback (most recent call last)",
            "Cell \u001b[0;32mIn [76], line 1\u001b[0m\n\u001b[0;32m----> 1\u001b[0m q1\u001b[38;5;241m=\u001b[39m\u001b[43mpd\u001b[49m\u001b[38;5;241;43m.\u001b[39;49m\u001b[43mdataset\u001b[49m([\u001b[38;5;124m\"\u001b[39m\u001b[38;5;124mY2017\u001b[39m\u001b[38;5;124m\"\u001b[39m, \u001b[38;5;124m\"\u001b[39m\u001b[38;5;124mArea\u001b[39m\u001b[38;5;124m\"\u001b[39m])\u001b[38;5;241m.\u001b[39mgroupby([\u001b[38;5;124m\"\u001b[39m\u001b[38;5;124mArea\u001b[39m\u001b[38;5;124m\"\u001b[39m])\n\u001b[1;32m      3\u001b[0m q1\n",
            "File \u001b[0;32m/lib/python3.10/site-packages/pandas/__init__.py:261\u001b[0m, in \u001b[0;36m__getattr__\u001b[0;34m(name)\u001b[0m\n\u001b[1;32m    257\u001b[0m     \u001b[38;5;28;01mfrom\u001b[39;00m \u001b[38;5;21;01mpandas\u001b[39;00m\u001b[38;5;21;01m.\u001b[39;00m\u001b[38;5;21;01mcore\u001b[39;00m\u001b[38;5;21;01m.\u001b[39;00m\u001b[38;5;21;01marrays\u001b[39;00m\u001b[38;5;21;01m.\u001b[39;00m\u001b[38;5;21;01msparse\u001b[39;00m \u001b[38;5;28;01mimport\u001b[39;00m SparseArray \u001b[38;5;28;01mas\u001b[39;00m _SparseArray\n\u001b[1;32m    259\u001b[0m     \u001b[38;5;28;01mreturn\u001b[39;00m _SparseArray\n\u001b[0;32m--> 261\u001b[0m \u001b[38;5;28;01mraise\u001b[39;00m \u001b[38;5;167;01mAttributeError\u001b[39;00m(\u001b[38;5;124mf\u001b[39m\u001b[38;5;124m\"\u001b[39m\u001b[38;5;124mmodule \u001b[39m\u001b[38;5;124m'\u001b[39m\u001b[38;5;124mpandas\u001b[39m\u001b[38;5;124m'\u001b[39m\u001b[38;5;124m has no attribute \u001b[39m\u001b[38;5;124m'\u001b[39m\u001b[38;5;132;01m{\u001b[39;00mname\u001b[38;5;132;01m}\u001b[39;00m\u001b[38;5;124m'\u001b[39m\u001b[38;5;124m\"\u001b[39m)\n",
            "\u001b[0;31mAttributeError\u001b[0m: module 'pandas' has no attribute 'dataset'"
          ],
          "output_type": "error"
        }
      ]
    },
    {
      "cell_type": "code",
      "source": "q10=dataset.items()",
      "metadata": {
        "trusted": true
      },
      "execution_count": 67,
      "outputs": []
    },
    {
      "cell_type": "code",
      "source": "Q18\n\n\ny = [(2, 4), (7, 8), (1, 5, 9)]",
      "metadata": {
        "trusted": true
      },
      "execution_count": 35,
      "outputs": []
    },
    {
      "cell_type": "code",
      "source": "\nx=y[1][1]\nx",
      "metadata": {
        "trusted": true
      },
      "execution_count": 38,
      "outputs": [
        {
          "execution_count": 38,
          "output_type": "execute_result",
          "data": {
            "text/plain": "8"
          },
          "metadata": {}
        }
      ]
    },
    {
      "cell_type": "code",
      "source": "my_tuppy = (1,2,5,8)\n\nmy_tuppy[2] = 6",
      "metadata": {
        "trusted": true
      },
      "execution_count": 46,
      "outputs": [
        {
          "ename": "<class 'TypeError'>",
          "evalue": "'tuple' object does not support item assignment",
          "traceback": [
            "\u001b[0;31m---------------------------------------------------------------------------\u001b[0m",
            "\u001b[0;31mTypeError\u001b[0m                                 Traceback (most recent call last)",
            "Cell \u001b[0;32mIn [46], line 3\u001b[0m\n\u001b[1;32m      1\u001b[0m my_tuppy \u001b[38;5;241m=\u001b[39m (\u001b[38;5;241m1\u001b[39m,\u001b[38;5;241m2\u001b[39m,\u001b[38;5;241m5\u001b[39m,\u001b[38;5;241m8\u001b[39m)\n\u001b[0;32m----> 3\u001b[0m \u001b[43mmy_tuppy\u001b[49m\u001b[43m[\u001b[49m\u001b[38;5;241;43m2\u001b[39;49m\u001b[43m]\u001b[49m \u001b[38;5;241m=\u001b[39m \u001b[38;5;241m6\u001b[39m\n",
            "\u001b[0;31mTypeError\u001b[0m: 'tuple' object does not support item assignment"
          ],
          "output_type": "error"
        }
      ]
    },
    {
      "cell_type": "code",
      "source": "S = [['him', 'sell'], [90, 28, 43]]\n\nS[0][1][1]",
      "metadata": {
        "trusted": true
      },
      "execution_count": 57,
      "outputs": [
        {
          "execution_count": 57,
          "output_type": "execute_result",
          "data": {
            "text/plain": "'e'"
          },
          "metadata": {}
        }
      ]
    },
    {
      "cell_type": "code",
      "source": "q9=dataset[\"Area\"].unique().sum()\nq9",
      "metadata": {
        "trusted": true
      },
      "execution_count": 65,
      "outputs": [
        {
          "execution_count": 65,
          "output_type": "execute_result",
          "data": {
            "text/plain": "'AlgeriaAngolaBeninBotswanaBurkina FasoCabo VerdeCameroonCentral African RepublicChad'"
          },
          "metadata": {}
        }
      ]
    },
    {
      "cell_type": "code",
      "source": "q14=dataset[\"Y2015\"].quantile()\nq14",
      "metadata": {
        "trusted": true
      },
      "execution_count": 44,
      "outputs": [
        {
          "execution_count": 44,
          "output_type": "execute_result",
          "data": {
            "text/plain": "0.02"
          },
          "metadata": {}
        }
      ]
    },
    {
      "cell_type": "code",
      "source": "q7=np.corrcoef(dataset[\"Element\"])",
      "metadata": {
        "trusted": true
      },
      "execution_count": 58,
      "outputs": [
        {
          "ename": "<class 'TypeError'>",
          "evalue": "unsupported operand type(s) for /: 'str' and 'int'",
          "traceback": [
            "\u001b[0;31m---------------------------------------------------------------------------\u001b[0m",
            "\u001b[0;31mTypeError\u001b[0m                                 Traceback (most recent call last)",
            "Cell \u001b[0;32mIn [58], line 1\u001b[0m\n\u001b[0;32m----> 1\u001b[0m q7\u001b[38;5;241m=\u001b[39m\u001b[43mnp\u001b[49m\u001b[38;5;241;43m.\u001b[39;49m\u001b[43mcorrcoef\u001b[49m\u001b[43m(\u001b[49m\u001b[43mdataset\u001b[49m\u001b[43m[\u001b[49m\u001b[38;5;124;43m\"\u001b[39;49m\u001b[38;5;124;43mElement\u001b[39;49m\u001b[38;5;124;43m\"\u001b[39;49m\u001b[43m]\u001b[49m\u001b[43m)\u001b[49m\n",
            "File \u001b[0;32m<__array_function__ internals>:180\u001b[0m, in \u001b[0;36mcorrcoef\u001b[0;34m(*args, **kwargs)\u001b[0m\n",
            "File \u001b[0;32m/lib/python3.10/site-packages/numpy/lib/function_base.py:2821\u001b[0m, in \u001b[0;36mcorrcoef\u001b[0;34m(x, y, rowvar, bias, ddof, dtype)\u001b[0m\n\u001b[1;32m   2817\u001b[0m \u001b[38;5;28;01mif\u001b[39;00m bias \u001b[38;5;129;01mis\u001b[39;00m \u001b[38;5;129;01mnot\u001b[39;00m np\u001b[38;5;241m.\u001b[39m_NoValue \u001b[38;5;129;01mor\u001b[39;00m ddof \u001b[38;5;129;01mis\u001b[39;00m \u001b[38;5;129;01mnot\u001b[39;00m np\u001b[38;5;241m.\u001b[39m_NoValue:\n\u001b[1;32m   2818\u001b[0m     \u001b[38;5;66;03m# 2015-03-15, 1.10\u001b[39;00m\n\u001b[1;32m   2819\u001b[0m     warnings\u001b[38;5;241m.\u001b[39mwarn(\u001b[38;5;124m'\u001b[39m\u001b[38;5;124mbias and ddof have no effect and are deprecated\u001b[39m\u001b[38;5;124m'\u001b[39m,\n\u001b[1;32m   2820\u001b[0m                   \u001b[38;5;167;01mDeprecationWarning\u001b[39;00m, stacklevel\u001b[38;5;241m=\u001b[39m\u001b[38;5;241m3\u001b[39m)\n\u001b[0;32m-> 2821\u001b[0m c \u001b[38;5;241m=\u001b[39m \u001b[43mcov\u001b[49m\u001b[43m(\u001b[49m\u001b[43mx\u001b[49m\u001b[43m,\u001b[49m\u001b[43m \u001b[49m\u001b[43my\u001b[49m\u001b[43m,\u001b[49m\u001b[43m \u001b[49m\u001b[43mrowvar\u001b[49m\u001b[43m,\u001b[49m\u001b[43m \u001b[49m\u001b[43mdtype\u001b[49m\u001b[38;5;241;43m=\u001b[39;49m\u001b[43mdtype\u001b[49m\u001b[43m)\u001b[49m\n\u001b[1;32m   2822\u001b[0m \u001b[38;5;28;01mtry\u001b[39;00m:\n\u001b[1;32m   2823\u001b[0m     d \u001b[38;5;241m=\u001b[39m diag(c)\n",
            "File \u001b[0;32m<__array_function__ internals>:180\u001b[0m, in \u001b[0;36mcov\u001b[0;34m(*args, **kwargs)\u001b[0m\n",
            "File \u001b[0;32m/lib/python3.10/site-packages/numpy/lib/function_base.py:2656\u001b[0m, in \u001b[0;36mcov\u001b[0;34m(m, y, rowvar, bias, ddof, fweights, aweights, dtype)\u001b[0m\n\u001b[1;32m   2653\u001b[0m     \u001b[38;5;28;01melse\u001b[39;00m:\n\u001b[1;32m   2654\u001b[0m         w \u001b[38;5;241m*\u001b[39m\u001b[38;5;241m=\u001b[39m aweights\n\u001b[0;32m-> 2656\u001b[0m avg, w_sum \u001b[38;5;241m=\u001b[39m \u001b[43maverage\u001b[49m\u001b[43m(\u001b[49m\u001b[43mX\u001b[49m\u001b[43m,\u001b[49m\u001b[43m \u001b[49m\u001b[43maxis\u001b[49m\u001b[38;5;241;43m=\u001b[39;49m\u001b[38;5;241;43m1\u001b[39;49m\u001b[43m,\u001b[49m\u001b[43m \u001b[49m\u001b[43mweights\u001b[49m\u001b[38;5;241;43m=\u001b[39;49m\u001b[43mw\u001b[49m\u001b[43m,\u001b[49m\u001b[43m \u001b[49m\u001b[43mreturned\u001b[49m\u001b[38;5;241;43m=\u001b[39;49m\u001b[38;5;28;43;01mTrue\u001b[39;49;00m\u001b[43m)\u001b[49m\n\u001b[1;32m   2657\u001b[0m w_sum \u001b[38;5;241m=\u001b[39m w_sum[\u001b[38;5;241m0\u001b[39m]\n\u001b[1;32m   2659\u001b[0m \u001b[38;5;66;03m# Determine the normalization\u001b[39;00m\n",
            "File \u001b[0;32m<__array_function__ internals>:180\u001b[0m, in \u001b[0;36maverage\u001b[0;34m(*args, **kwargs)\u001b[0m\n",
            "File \u001b[0;32m/lib/python3.10/site-packages/numpy/lib/function_base.py:495\u001b[0m, in \u001b[0;36maverage\u001b[0;34m(a, axis, weights, returned)\u001b[0m\n\u001b[1;32m    492\u001b[0m a \u001b[38;5;241m=\u001b[39m np\u001b[38;5;241m.\u001b[39masanyarray(a)\n\u001b[1;32m    494\u001b[0m \u001b[38;5;28;01mif\u001b[39;00m weights \u001b[38;5;129;01mis\u001b[39;00m \u001b[38;5;28;01mNone\u001b[39;00m:\n\u001b[0;32m--> 495\u001b[0m     avg \u001b[38;5;241m=\u001b[39m \u001b[43ma\u001b[49m\u001b[38;5;241;43m.\u001b[39;49m\u001b[43mmean\u001b[49m\u001b[43m(\u001b[49m\u001b[43maxis\u001b[49m\u001b[43m)\u001b[49m\n\u001b[1;32m    496\u001b[0m     scl \u001b[38;5;241m=\u001b[39m avg\u001b[38;5;241m.\u001b[39mdtype\u001b[38;5;241m.\u001b[39mtype(a\u001b[38;5;241m.\u001b[39msize\u001b[38;5;241m/\u001b[39mavg\u001b[38;5;241m.\u001b[39msize)\n\u001b[1;32m    497\u001b[0m \u001b[38;5;28;01melse\u001b[39;00m:\n",
            "File \u001b[0;32m/lib/python3.10/site-packages/numpy/core/_methods.py:181\u001b[0m, in \u001b[0;36m_mean\u001b[0;34m(a, axis, dtype, out, keepdims, where)\u001b[0m\n\u001b[1;32m    179\u001b[0m ret \u001b[38;5;241m=\u001b[39m umr_sum(arr, axis, dtype, out, keepdims, where\u001b[38;5;241m=\u001b[39mwhere)\n\u001b[1;32m    180\u001b[0m \u001b[38;5;28;01mif\u001b[39;00m \u001b[38;5;28misinstance\u001b[39m(ret, mu\u001b[38;5;241m.\u001b[39mndarray):\n\u001b[0;32m--> 181\u001b[0m     ret \u001b[38;5;241m=\u001b[39m \u001b[43mum\u001b[49m\u001b[38;5;241;43m.\u001b[39;49m\u001b[43mtrue_divide\u001b[49m\u001b[43m(\u001b[49m\n\u001b[1;32m    182\u001b[0m \u001b[43m            \u001b[49m\u001b[43mret\u001b[49m\u001b[43m,\u001b[49m\u001b[43m \u001b[49m\u001b[43mrcount\u001b[49m\u001b[43m,\u001b[49m\u001b[43m \u001b[49m\u001b[43mout\u001b[49m\u001b[38;5;241;43m=\u001b[39;49m\u001b[43mret\u001b[49m\u001b[43m,\u001b[49m\u001b[43m \u001b[49m\u001b[43mcasting\u001b[49m\u001b[38;5;241;43m=\u001b[39;49m\u001b[38;5;124;43m'\u001b[39;49m\u001b[38;5;124;43munsafe\u001b[39;49m\u001b[38;5;124;43m'\u001b[39;49m\u001b[43m,\u001b[49m\u001b[43m \u001b[49m\u001b[43msubok\u001b[49m\u001b[38;5;241;43m=\u001b[39;49m\u001b[38;5;28;43;01mFalse\u001b[39;49;00m\u001b[43m)\u001b[49m\n\u001b[1;32m    183\u001b[0m     \u001b[38;5;28;01mif\u001b[39;00m is_float16_result \u001b[38;5;129;01mand\u001b[39;00m out \u001b[38;5;129;01mis\u001b[39;00m \u001b[38;5;28;01mNone\u001b[39;00m:\n\u001b[1;32m    184\u001b[0m         ret \u001b[38;5;241m=\u001b[39m arr\u001b[38;5;241m.\u001b[39mdtype\u001b[38;5;241m.\u001b[39mtype(ret)\n",
            "\u001b[0;31mTypeError\u001b[0m: unsupported operand type(s) for /: 'str' and 'int'"
          ],
          "output_type": "error"
        }
      ]
    },
    {
      "cell_type": "code",
      "source": "",
      "metadata": {},
      "execution_count": null,
      "outputs": []
    },
    {
      "cell_type": "code",
      "source": "",
      "metadata": {},
      "execution_count": null,
      "outputs": []
    },
    {
      "cell_type": "code",
      "source": "lst = [[35, 'Portugal', 94], [33, 'Argentina', 93], [30 , 'Brazil', 92]]\n\ncol = [‘Age’,’Nationality’,’Overall’]",
      "metadata": {},
      "execution_count": null,
      "outputs": []
    },
    {
      "cell_type": "code",
      "source": "q=pd.DataFrame",
      "metadata": {},
      "execution_count": null,
      "outputs": []
    }
  ]
}